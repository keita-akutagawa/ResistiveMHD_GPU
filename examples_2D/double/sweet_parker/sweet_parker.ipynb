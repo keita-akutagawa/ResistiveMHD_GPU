{
 "cells": [
  {
   "cell_type": "code",
   "execution_count": 1,
   "metadata": {},
   "outputs": [],
   "source": [
    "import numpy as np\n",
    "import matplotlib.pyplot as plt\n",
    "import cv2"
   ]
  },
  {
   "cell_type": "code",
   "execution_count": 2,
   "metadata": {},
   "outputs": [
    {
     "name": "stdout",
     "output_type": "stream",
     "text": [
      "Lundquist number = 100000.0\n",
      "box size 3200 X 400\n"
     ]
    }
   ],
   "source": [
    "gamma = 5.0/3.0\n",
    "B0 = 1.0\n",
    "rho0 = 1.0\n",
    "sheat_thickness = 1.0\n",
    "p0 = B0**2 / 2.0 #カレントシート中央での圧力\n",
    "beta_upstream = 0.5\n",
    "VA = B0 / np.sqrt(rho0)\n",
    "x_max = 400.0 * sheat_thickness\n",
    "y_max = 25.0 * sheat_thickness\n",
    "dx = sheat_thickness / 8.0\n",
    "dy = sheat_thickness / 8.0\n",
    "nx = int(x_max / dx)\n",
    "ny = int(2.0 * y_max / dy)\n",
    "dt = 0.0\n",
    "CFL = 0.7\n",
    "x = np.arange(0.0, x_max, dx)\n",
    "y = np.arange(-y_max, y_max, dy)\n",
    "X, Y = np.meshgrid(x, y)\n",
    "\n",
    "eta = 1.0 / 500.0\n",
    "S = 0.5 * x_max * VA / eta\n",
    "print(f\"Lundquist number = {S:.1f}\")\n",
    "print(f\"box size {nx} X {ny}\")"
   ]
  },
  {
   "cell_type": "code",
   "execution_count": 3,
   "metadata": {},
   "outputs": [],
   "source": [
    "total_steps = 25000\n",
    "interval = 100\n",
    "\n",
    "filename = \"sweet_parker.mp4\"\n",
    "img = cv2.imread(f'./pictures_sweet_parker/0.png')\n",
    "framesize = (img.shape[1], img.shape[0])\n",
    "fps = 20.0\n",
    "fourcc = cv2.VideoWriter_fourcc('m','p','4','v')\n",
    "video  = cv2.VideoWriter(filename=filename, fourcc=fourcc, fps=fps, frameSize=framesize)\n",
    "\n",
    "for step in range(0, total_steps+interval, interval):\n",
    "    img = cv2.imread(f'./pictures_sweet_parker/{step}.png')\n",
    "    video.write(img)\n",
    "video.release()"
   ]
  },
  {
   "cell_type": "code",
   "execution_count": null,
   "metadata": {},
   "outputs": [],
   "source": []
  }
 ],
 "metadata": {
  "kernelspec": {
   "display_name": "base",
   "language": "python",
   "name": "python3"
  },
  "language_info": {
   "codemirror_mode": {
    "name": "ipython",
    "version": 3
   },
   "file_extension": ".py",
   "mimetype": "text/x-python",
   "name": "python",
   "nbconvert_exporter": "python",
   "pygments_lexer": "ipython3",
   "version": "3.11.5"
  }
 },
 "nbformat": 4,
 "nbformat_minor": 2
}
